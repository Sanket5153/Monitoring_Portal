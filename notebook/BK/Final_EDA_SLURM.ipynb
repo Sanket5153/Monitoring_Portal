{
 "cells": [
  {
   "cell_type": "code",
   "execution_count": 22,
   "metadata": {},
   "outputs": [],
   "source": [
    "import pandas as pd\n",
    "import numpy as np\n",
    "import matplotlib.pyplot as plt\n",
    "%matplotlib inline\n",
    "import seaborn as sns\n",
    "\n",
    "#displays all columns in dataframe even if millions\n",
    "pd.pandas.set_option('display.max_columns',None)\n"
   ]
  },
  {
   "cell_type": "code",
   "execution_count": 23,
   "metadata": {},
   "outputs": [
    {
     "name": "stdout",
     "output_type": "stream",
     "text": [
      "(287173, 30)\n"
     ]
    }
   ],
   "source": [
    "dataset=pd.read_csv(\"data/scheduler_data.csv\")\n",
    "\n",
    "print(dataset.shape)"
   ]
  },
  {
   "cell_type": "code",
   "execution_count": 24,
   "metadata": {},
   "outputs": [
    {
     "data": {
      "text/html": [
       "<div>\n",
       "<style scoped>\n",
       "    .dataframe tbody tr th:only-of-type {\n",
       "        vertical-align: middle;\n",
       "    }\n",
       "\n",
       "    .dataframe tbody tr th {\n",
       "        vertical-align: top;\n",
       "    }\n",
       "\n",
       "    .dataframe thead th {\n",
       "        text-align: right;\n",
       "    }\n",
       "</style>\n",
       "<table border=\"1\" class=\"dataframe\">\n",
       "  <thead>\n",
       "    <tr style=\"text-align: right;\">\n",
       "      <th></th>\n",
       "      <th>id_array_job</th>\n",
       "      <th>id_array_task</th>\n",
       "      <th>id_user</th>\n",
       "      <th>kill_requid</th>\n",
       "      <th>nodes_alloc</th>\n",
       "      <th>nodelist</th>\n",
       "      <th>cpus_req</th>\n",
       "      <th>derived_ec</th>\n",
       "      <th>exit_code</th>\n",
       "      <th>gres_req</th>\n",
       "      <th>gres_alloc</th>\n",
       "      <th>array_max_tasks</th>\n",
       "      <th>array_task_pending</th>\n",
       "      <th>constraints</th>\n",
       "      <th>flags</th>\n",
       "      <th>mem_req</th>\n",
       "      <th>partition</th>\n",
       "      <th>priority</th>\n",
       "      <th>state</th>\n",
       "      <th>timelimit</th>\n",
       "      <th>time_submit</th>\n",
       "      <th>time_eligible</th>\n",
       "      <th>time_start</th>\n",
       "      <th>time_end</th>\n",
       "      <th>time_suspended</th>\n",
       "      <th>track_steps</th>\n",
       "      <th>tres_alloc</th>\n",
       "      <th>tres_req</th>\n",
       "      <th>job_type</th>\n",
       "      <th>id_job</th>\n",
       "    </tr>\n",
       "  </thead>\n",
       "  <tbody>\n",
       "    <tr>\n",
       "      <th>0</th>\n",
       "      <td>41161693674</td>\n",
       "      <td>4595979483</td>\n",
       "      <td>66088413977</td>\n",
       "      <td>51671871839</td>\n",
       "      <td>0</td>\n",
       "      <td>[]</td>\n",
       "      <td>1</td>\n",
       "      <td>0</td>\n",
       "      <td>256</td>\n",
       "      <td>NaN</td>\n",
       "      <td>NaN</td>\n",
       "      <td>0</td>\n",
       "      <td>0</td>\n",
       "      <td>xeon-g6</td>\n",
       "      <td>0</td>\n",
       "      <td>9.223370e+18</td>\n",
       "      <td>gpu</td>\n",
       "      <td>19995</td>\n",
       "      <td>5</td>\n",
       "      <td>720</td>\n",
       "      <td>3014</td>\n",
       "      <td>3014</td>\n",
       "      <td>3014</td>\n",
       "      <td>3014</td>\n",
       "      <td>-1</td>\n",
       "      <td>0</td>\n",
       "      <td>NaN</td>\n",
       "      <td>1=1,2=5000,4=1,5=1,1002=2</td>\n",
       "      <td>OTHER</td>\n",
       "      <td>13715936505</td>\n",
       "    </tr>\n",
       "    <tr>\n",
       "      <th>1</th>\n",
       "      <td>41161693674</td>\n",
       "      <td>4595979483</td>\n",
       "      <td>66088413977</td>\n",
       "      <td>51671871839</td>\n",
       "      <td>1</td>\n",
       "      <td>['r2684277-n303509']</td>\n",
       "      <td>1</td>\n",
       "      <td>0</td>\n",
       "      <td>0</td>\n",
       "      <td>gpu:volta:2</td>\n",
       "      <td>gpu:2</td>\n",
       "      <td>0</td>\n",
       "      <td>0</td>\n",
       "      <td>xeon-g6</td>\n",
       "      <td>2</td>\n",
       "      <td>9.223370e+18</td>\n",
       "      <td>gaia</td>\n",
       "      <td>19995</td>\n",
       "      <td>3</td>\n",
       "      <td>4294967295</td>\n",
       "      <td>3022</td>\n",
       "      <td>3022</td>\n",
       "      <td>3022</td>\n",
       "      <td>3025</td>\n",
       "      <td>-1</td>\n",
       "      <td>0</td>\n",
       "      <td>1=1,2=9600,4=1,5=1,1002=2</td>\n",
       "      <td>1=1,2=9600,4=1,5=1,1002=2</td>\n",
       "      <td>OTHER</td>\n",
       "      <td>25780056187</td>\n",
       "    </tr>\n",
       "    <tr>\n",
       "      <th>2</th>\n",
       "      <td>41161693674</td>\n",
       "      <td>4595979483</td>\n",
       "      <td>16176946191</td>\n",
       "      <td>51671871839</td>\n",
       "      <td>1</td>\n",
       "      <td>['r5198790-n347934']</td>\n",
       "      <td>4</td>\n",
       "      <td>32512</td>\n",
       "      <td>32512</td>\n",
       "      <td>gpu:volta:1</td>\n",
       "      <td>gpu:1</td>\n",
       "      <td>0</td>\n",
       "      <td>0</td>\n",
       "      <td>xeon-g6</td>\n",
       "      <td>4</td>\n",
       "      <td>9.223370e+18</td>\n",
       "      <td>gaia</td>\n",
       "      <td>110012</td>\n",
       "      <td>5</td>\n",
       "      <td>4294967295</td>\n",
       "      <td>5682</td>\n",
       "      <td>5682</td>\n",
       "      <td>5683</td>\n",
       "      <td>5684</td>\n",
       "      <td>-1</td>\n",
       "      <td>0</td>\n",
       "      <td>1=4,2=38400,4=1,5=4,1002=1</td>\n",
       "      <td>1=4,2=38400,4=1,5=4,1002=1</td>\n",
       "      <td>OTHER</td>\n",
       "      <td>53722449986</td>\n",
       "    </tr>\n",
       "    <tr>\n",
       "      <th>3</th>\n",
       "      <td>41161693674</td>\n",
       "      <td>4595979483</td>\n",
       "      <td>16176946191</td>\n",
       "      <td>16176946191</td>\n",
       "      <td>1</td>\n",
       "      <td>['r3541344-n655125']</td>\n",
       "      <td>4</td>\n",
       "      <td>0</td>\n",
       "      <td>0</td>\n",
       "      <td>gpu:volta:1</td>\n",
       "      <td>gpu:1</td>\n",
       "      <td>0</td>\n",
       "      <td>0</td>\n",
       "      <td>xeon-e5</td>\n",
       "      <td>4</td>\n",
       "      <td>9.223370e+18</td>\n",
       "      <td>gpu</td>\n",
       "      <td>110023</td>\n",
       "      <td>4</td>\n",
       "      <td>720</td>\n",
       "      <td>34467</td>\n",
       "      <td>34467</td>\n",
       "      <td>34468</td>\n",
       "      <td>34548</td>\n",
       "      <td>-1</td>\n",
       "      <td>0</td>\n",
       "      <td>1=4,2=20000,4=1,5=4,1002=1</td>\n",
       "      <td>1=4,2=20000,4=1,5=4,1002=1</td>\n",
       "      <td>OTHER</td>\n",
       "      <td>19989272070</td>\n",
       "    </tr>\n",
       "    <tr>\n",
       "      <th>4</th>\n",
       "      <td>41161693674</td>\n",
       "      <td>4595979483</td>\n",
       "      <td>16176946191</td>\n",
       "      <td>16176946191</td>\n",
       "      <td>1</td>\n",
       "      <td>['r3541344-n655125']</td>\n",
       "      <td>4</td>\n",
       "      <td>0</td>\n",
       "      <td>0</td>\n",
       "      <td>gpu:volta:1</td>\n",
       "      <td>gpu:1</td>\n",
       "      <td>0</td>\n",
       "      <td>0</td>\n",
       "      <td>xeon-e5</td>\n",
       "      <td>4</td>\n",
       "      <td>9.223370e+18</td>\n",
       "      <td>gpu</td>\n",
       "      <td>110006</td>\n",
       "      <td>4</td>\n",
       "      <td>720</td>\n",
       "      <td>34596</td>\n",
       "      <td>34596</td>\n",
       "      <td>34596</td>\n",
       "      <td>35108</td>\n",
       "      <td>-1</td>\n",
       "      <td>0</td>\n",
       "      <td>1=4,2=20000,4=1,5=4,1002=1</td>\n",
       "      <td>1=4,2=20000,4=1,5=4,1002=1</td>\n",
       "      <td>OTHER</td>\n",
       "      <td>49220239266</td>\n",
       "    </tr>\n",
       "  </tbody>\n",
       "</table>\n",
       "</div>"
      ],
      "text/plain": [
       "   id_array_job  id_array_task      id_user  kill_requid  nodes_alloc  \\\n",
       "0   41161693674     4595979483  66088413977  51671871839            0   \n",
       "1   41161693674     4595979483  66088413977  51671871839            1   \n",
       "2   41161693674     4595979483  16176946191  51671871839            1   \n",
       "3   41161693674     4595979483  16176946191  16176946191            1   \n",
       "4   41161693674     4595979483  16176946191  16176946191            1   \n",
       "\n",
       "               nodelist  cpus_req  derived_ec  exit_code     gres_req  \\\n",
       "0                    []         1           0        256          NaN   \n",
       "1  ['r2684277-n303509']         1           0          0  gpu:volta:2   \n",
       "2  ['r5198790-n347934']         4       32512      32512  gpu:volta:1   \n",
       "3  ['r3541344-n655125']         4           0          0  gpu:volta:1   \n",
       "4  ['r3541344-n655125']         4           0          0  gpu:volta:1   \n",
       "\n",
       "  gres_alloc  array_max_tasks  array_task_pending constraints  flags  \\\n",
       "0        NaN                0                   0     xeon-g6      0   \n",
       "1      gpu:2                0                   0     xeon-g6      2   \n",
       "2      gpu:1                0                   0     xeon-g6      4   \n",
       "3      gpu:1                0                   0     xeon-e5      4   \n",
       "4      gpu:1                0                   0     xeon-e5      4   \n",
       "\n",
       "        mem_req partition  priority  state   timelimit  time_submit  \\\n",
       "0  9.223370e+18       gpu     19995      5         720         3014   \n",
       "1  9.223370e+18      gaia     19995      3  4294967295         3022   \n",
       "2  9.223370e+18      gaia    110012      5  4294967295         5682   \n",
       "3  9.223370e+18       gpu    110023      4         720        34467   \n",
       "4  9.223370e+18       gpu    110006      4         720        34596   \n",
       "\n",
       "   time_eligible  time_start  time_end  time_suspended  track_steps  \\\n",
       "0           3014        3014      3014              -1            0   \n",
       "1           3022        3022      3025              -1            0   \n",
       "2           5682        5683      5684              -1            0   \n",
       "3          34467       34468     34548              -1            0   \n",
       "4          34596       34596     35108              -1            0   \n",
       "\n",
       "                   tres_alloc                    tres_req job_type  \\\n",
       "0                         NaN   1=1,2=5000,4=1,5=1,1002=2    OTHER   \n",
       "1   1=1,2=9600,4=1,5=1,1002=2   1=1,2=9600,4=1,5=1,1002=2    OTHER   \n",
       "2  1=4,2=38400,4=1,5=4,1002=1  1=4,2=38400,4=1,5=4,1002=1    OTHER   \n",
       "3  1=4,2=20000,4=1,5=4,1002=1  1=4,2=20000,4=1,5=4,1002=1    OTHER   \n",
       "4  1=4,2=20000,4=1,5=4,1002=1  1=4,2=20000,4=1,5=4,1002=1    OTHER   \n",
       "\n",
       "        id_job  \n",
       "0  13715936505  \n",
       "1  25780056187  \n",
       "2  53722449986  \n",
       "3  19989272070  \n",
       "4  49220239266  "
      ]
     },
     "execution_count": 24,
     "metadata": {},
     "output_type": "execute_result"
    }
   ],
   "source": [
    "dataset.head()"
   ]
  },
  {
   "cell_type": "markdown",
   "metadata": {},
   "source": [
    "### In Data Analysis We will Analyze To Find out the below stuff\n",
    "- Missing Values\n",
    "- All The Numerical Variables\n",
    "- Distribution of the Numerical Variables\n",
    "- Categorical Variables\n",
    "- Cardinality of Categorical Variables\n",
    "- Outliers\n",
    "- Relationship between independent and dependent feature(SalePrice)"
   ]
  },
  {
   "cell_type": "code",
   "execution_count": 25,
   "metadata": {},
   "outputs": [
    {
     "name": "stdout",
     "output_type": "stream",
     "text": [
      "gres_req 0.2455  % missing values\n",
      "gres_alloc 0.2455  % missing values\n",
      "tres_alloc 0.2456  % missing values\n"
     ]
    }
   ],
   "source": [
    "## Here we will check the percentage of nan values present in each feature\n",
    "## 1 -step make the list of features which has missing values\n",
    "features_with_na=[features for features in dataset.columns if dataset[features].isnull().sum()>1]\n",
    "## 2- step print the feature name and the percentage of missing values\n",
    "\n",
    "for feature in features_with_na:\n",
    "    print(feature, np.round(dataset[feature].isnull().mean(), 4),  ' % missing values')"
   ]
  },
  {
   "cell_type": "code",
   "execution_count": 26,
   "metadata": {},
   "outputs": [
    {
     "data": {
      "text/plain": [
       "-216676"
      ]
     },
     "execution_count": 26,
     "metadata": {},
     "output_type": "execute_result"
    }
   ],
   "source": [
    "dataset[\"gres_req\"].isna().sum() - len(dataset[\"gres_req\"])"
   ]
  },
  {
   "cell_type": "markdown",
   "metadata": {},
   "source": [
    "### Since they are many missing values, we need to find the relationship between missing values\n",
    "Let's plot some diagram for this relationship"
   ]
  },
  {
   "cell_type": "markdown",
   "metadata": {},
   "source": []
  },
  {
   "cell_type": "code",
   "execution_count": 27,
   "metadata": {},
   "outputs": [
    {
     "data": {
      "image/png": "[encoded data removed]",
      "text/plain": [
       "<Figure size 640x480 with 1 Axes>"
      ]
     },
     "metadata": {},
     "output_type": "display_data"
    },
    {
     "data": {
      "image/png": "[encoded data removed]",
      "text/plain": [
       "<Figure size 640x480 with 1 Axes>"
      ]
     },
     "metadata": {},
     "output_type": "display_data"
    },
    {
     "data": {
      "image/png": "[encoded data removed]",
      "text/plain": [
       "<Figure size 640x480 with 1 Axes>"
      ]
     },
     "metadata": {},
     "output_type": "display_data"
    }
   ],
   "source": [
    "for feature in features_with_na:\n",
    "    data = dataset.copy()\n",
    "    \n",
    "\n",
    "    # let's make a variable that indicates 1 if the observation was missing or zero otherwise\n",
    "    data[feature] = np.where(data[feature].isnull(), 1, 0)\n",
    "    \n",
    "    # let's calculate the mean END where the information is missing or present\n",
    "    data.groupby(feature)['time_end'].median().plot.bar()\n",
    "    plt.title(feature)\n",
    "    plt.show()"
   ]
  },
  {
   "cell_type": "markdown",
   "metadata": {},
   "source": [
    "### Here where Nan we converted it to 1 and values present to 0 \n",
    "Here with relation etween missing values and dependent variable is clar so we need to replace NAN valus in FE part"
   ]
  },
  {
   "cell_type": "markdown",
   "metadata": {},
   "source": [
    "### Numerical Variables"
   ]
  },
  {
   "cell_type": "code",
   "execution_count": 28,
   "metadata": {},
   "outputs": [
    {
     "name": "stdout",
     "output_type": "stream",
     "text": [
      "Number of numerical variables:  22\n"
     ]
    },
    {
     "data": {
      "text/html": [
       "<div>\n",
       "<style scoped>\n",
       "    .dataframe tbody tr th:only-of-type {\n",
       "        vertical-align: middle;\n",
       "    }\n",
       "\n",
       "    .dataframe tbody tr th {\n",
       "        vertical-align: top;\n",
       "    }\n",
       "\n",
       "    .dataframe thead th {\n",
       "        text-align: right;\n",
       "    }\n",
       "</style>\n",
       "<table border=\"1\" class=\"dataframe\">\n",
       "  <thead>\n",
       "    <tr style=\"text-align: right;\">\n",
       "      <th></th>\n",
       "      <th>id_array_job</th>\n",
       "      <th>id_array_task</th>\n",
       "      <th>id_user</th>\n",
       "      <th>kill_requid</th>\n",
       "      <th>nodes_alloc</th>\n",
       "      <th>cpus_req</th>\n",
       "      <th>derived_ec</th>\n",
       "      <th>exit_code</th>\n",
       "      <th>array_max_tasks</th>\n",
       "      <th>array_task_pending</th>\n",
       "      <th>flags</th>\n",
       "      <th>mem_req</th>\n",
       "      <th>priority</th>\n",
       "      <th>state</th>\n",
       "      <th>timelimit</th>\n",
       "      <th>time_submit</th>\n",
       "      <th>time_eligible</th>\n",
       "      <th>time_start</th>\n",
       "      <th>time_end</th>\n",
       "      <th>time_suspended</th>\n",
       "      <th>track_steps</th>\n",
       "      <th>id_job</th>\n",
       "    </tr>\n",
       "  </thead>\n",
       "  <tbody>\n",
       "    <tr>\n",
       "      <th>0</th>\n",
       "      <td>41161693674</td>\n",
       "      <td>4595979483</td>\n",
       "      <td>66088413977</td>\n",
       "      <td>51671871839</td>\n",
       "      <td>0</td>\n",
       "      <td>1</td>\n",
       "      <td>0</td>\n",
       "      <td>256</td>\n",
       "      <td>0</td>\n",
       "      <td>0</td>\n",
       "      <td>0</td>\n",
       "      <td>9.223370e+18</td>\n",
       "      <td>19995</td>\n",
       "      <td>5</td>\n",
       "      <td>720</td>\n",
       "      <td>3014</td>\n",
       "      <td>3014</td>\n",
       "      <td>3014</td>\n",
       "      <td>3014</td>\n",
       "      <td>-1</td>\n",
       "      <td>0</td>\n",
       "      <td>13715936505</td>\n",
       "    </tr>\n",
       "    <tr>\n",
       "      <th>1</th>\n",
       "      <td>41161693674</td>\n",
       "      <td>4595979483</td>\n",
       "      <td>66088413977</td>\n",
       "      <td>51671871839</td>\n",
       "      <td>1</td>\n",
       "      <td>1</td>\n",
       "      <td>0</td>\n",
       "      <td>0</td>\n",
       "      <td>0</td>\n",
       "      <td>0</td>\n",
       "      <td>2</td>\n",
       "      <td>9.223370e+18</td>\n",
       "      <td>19995</td>\n",
       "      <td>3</td>\n",
       "      <td>4294967295</td>\n",
       "      <td>3022</td>\n",
       "      <td>3022</td>\n",
       "      <td>3022</td>\n",
       "      <td>3025</td>\n",
       "      <td>-1</td>\n",
       "      <td>0</td>\n",
       "      <td>25780056187</td>\n",
       "    </tr>\n",
       "    <tr>\n",
       "      <th>2</th>\n",
       "      <td>41161693674</td>\n",
       "      <td>4595979483</td>\n",
       "      <td>16176946191</td>\n",
       "      <td>51671871839</td>\n",
       "      <td>1</td>\n",
       "      <td>4</td>\n",
       "      <td>32512</td>\n",
       "      <td>32512</td>\n",
       "      <td>0</td>\n",
       "      <td>0</td>\n",
       "      <td>4</td>\n",
       "      <td>9.223370e+18</td>\n",
       "      <td>110012</td>\n",
       "      <td>5</td>\n",
       "      <td>4294967295</td>\n",
       "      <td>5682</td>\n",
       "      <td>5682</td>\n",
       "      <td>5683</td>\n",
       "      <td>5684</td>\n",
       "      <td>-1</td>\n",
       "      <td>0</td>\n",
       "      <td>53722449986</td>\n",
       "    </tr>\n",
       "    <tr>\n",
       "      <th>3</th>\n",
       "      <td>41161693674</td>\n",
       "      <td>4595979483</td>\n",
       "      <td>16176946191</td>\n",
       "      <td>16176946191</td>\n",
       "      <td>1</td>\n",
       "      <td>4</td>\n",
       "      <td>0</td>\n",
       "      <td>0</td>\n",
       "      <td>0</td>\n",
       "      <td>0</td>\n",
       "      <td>4</td>\n",
       "      <td>9.223370e+18</td>\n",
       "      <td>110023</td>\n",
       "      <td>4</td>\n",
       "      <td>720</td>\n",
       "      <td>34467</td>\n",
       "      <td>34467</td>\n",
       "      <td>34468</td>\n",
       "      <td>34548</td>\n",
       "      <td>-1</td>\n",
       "      <td>0</td>\n",
       "      <td>19989272070</td>\n",
       "    </tr>\n",
       "    <tr>\n",
       "      <th>4</th>\n",
       "      <td>41161693674</td>\n",
       "      <td>4595979483</td>\n",
       "      <td>16176946191</td>\n",
       "      <td>16176946191</td>\n",
       "      <td>1</td>\n",
       "      <td>4</td>\n",
       "      <td>0</td>\n",
       "      <td>0</td>\n",
       "      <td>0</td>\n",
       "      <td>0</td>\n",
       "      <td>4</td>\n",
       "      <td>9.223370e+18</td>\n",
       "      <td>110006</td>\n",
       "      <td>4</td>\n",
       "      <td>720</td>\n",
       "      <td>34596</td>\n",
       "      <td>34596</td>\n",
       "      <td>34596</td>\n",
       "      <td>35108</td>\n",
       "      <td>-1</td>\n",
       "      <td>0</td>\n",
       "      <td>49220239266</td>\n",
       "    </tr>\n",
       "  </tbody>\n",
       "</table>\n",
       "</div>"
      ],
      "text/plain": [
       "   id_array_job  id_array_task      id_user  kill_requid  nodes_alloc  \\\n",
       "0   41161693674     4595979483  66088413977  51671871839            0   \n",
       "1   41161693674     4595979483  66088413977  51671871839            1   \n",
       "2   41161693674     4595979483  16176946191  51671871839            1   \n",
       "3   41161693674     4595979483  16176946191  16176946191            1   \n",
       "4   41161693674     4595979483  16176946191  16176946191            1   \n",
       "\n",
       "   cpus_req  derived_ec  exit_code  array_max_tasks  array_task_pending  \\\n",
       "0         1           0        256                0                   0   \n",
       "1         1           0          0                0                   0   \n",
       "2         4       32512      32512                0                   0   \n",
       "3         4           0          0                0                   0   \n",
       "4         4           0          0                0                   0   \n",
       "\n",
       "   flags       mem_req  priority  state   timelimit  time_submit  \\\n",
       "0      0  9.223370e+18     19995      5         720         3014   \n",
       "1      2  9.223370e+18     19995      3  4294967295         3022   \n",
       "2      4  9.223370e+18    110012      5  4294967295         5682   \n",
       "3      4  9.223370e+18    110023      4         720        34467   \n",
       "4      4  9.223370e+18    110006      4         720        34596   \n",
       "\n",
       "   time_eligible  time_start  time_end  time_suspended  track_steps  \\\n",
       "0           3014        3014      3014              -1            0   \n",
       "1           3022        3022      3025              -1            0   \n",
       "2           5682        5683      5684              -1            0   \n",
       "3          34467       34468     34548              -1            0   \n",
       "4          34596       34596     35108              -1            0   \n",
       "\n",
       "        id_job  \n",
       "0  13715936505  \n",
       "1  25780056187  \n",
       "2  53722449986  \n",
       "3  19989272070  \n",
       "4  49220239266  "
      ]
     },
     "execution_count": 28,
     "metadata": {},
     "output_type": "execute_result"
    }
   ],
   "source": [
    "# list of numerical variables\n",
    "numerical_features = [feature for feature in dataset.columns if dataset[feature].dtypes != 'O']\n",
    "\n",
    "print('Number of numerical variables: ', len(numerical_features))\n",
    "\n",
    "# visualise the numerical variables\n",
    "dataset[numerical_features].head()"
   ]
  },
  {
   "cell_type": "code",
   "execution_count": 30,
   "metadata": {},
   "outputs": [
    {
     "data": {
      "text/plain": [
       "['id_array_job',\n",
       " 'id_array_task',\n",
       " 'id_user',\n",
       " 'kill_requid',\n",
       " 'nodes_alloc',\n",
       " 'cpus_req',\n",
       " 'derived_ec',\n",
       " 'exit_code',\n",
       " 'array_max_tasks',\n",
       " 'array_task_pending',\n",
       " 'flags',\n",
       " 'mem_req',\n",
       " 'priority',\n",
       " 'state',\n",
       " 'timelimit',\n",
       " 'time_submit',\n",
       " 'time_eligible',\n",
       " 'time_start',\n",
       " 'time_end',\n",
       " 'time_suspended',\n",
       " 'track_steps',\n",
       " 'id_job']"
      ]
     },
     "execution_count": 30,
     "metadata": {},
     "output_type": "execute_result"
    }
   ],
   "source": [
    "numerical_features"
   ]
  },
  {
   "cell_type": "code",
   "execution_count": null,
   "metadata": {},
   "outputs": [],
   "source": [
    "## Numerical variables are usually of 2 type\n",
    "## 1. Continous variable and Discrete Variables (Countables) \n",
    "\n",
    "\n",
    "discrete_feature=[feature for feature in numerical_features if len(dataset[feature].unique())<25 ]\n",
    "print(\"Discrete Variables Count: {}\".format(len(discrete_feature)))"
   ]
  },
  {
   "cell_type": "code",
   "execution_count": null,
   "metadata": {},
   "outputs": [],
   "source": [
    "discrete_feature"
   ]
  },
  {
   "cell_type": "code",
   "execution_count": null,
   "metadata": {},
   "outputs": [],
   "source": [
    "dataset[discrete_feature].head()"
   ]
  },
  {
   "cell_type": "code",
   "execution_count": null,
   "metadata": {},
   "outputs": [],
   "source": [
    "# ## Lets Find the realtionship between them and End time\n",
    "\n",
    "# for feature in discrete_feature:\n",
    "#     data=dataset.copy()\n",
    "#     data.groupby(feature)['time_end'].median().plot.bar()\n",
    "#     plt.xlabel(feature)\n",
    "#     plt.ylabel('time_end')\n",
    "#     plt.title(feature)\n",
    "#     plt.show()"
   ]
  },
  {
   "cell_type": "code",
   "execution_count": null,
   "metadata": {},
   "outputs": [],
   "source": [
    "for feature in discrete_feature:\n",
    "    data = dataset.copy()\n",
    "    \n",
    "    # Drop rows with NaN in the feature or 'time_end'\n",
    "    data = data.dropna(subset=[feature, 'time_end'])\n",
    "    \n",
    "    # Group by feature and calculate median\n",
    "    grouped_data = data.groupby(feature)['time_end'].median()\n",
    "    print(f'Grouped data for {feature}:\\n', grouped_data)\n",
    "    \n",
    "    # Check if grouped_data is not empty\n",
    "    if not grouped_data.empty:\n",
    "        grouped_data.plot.bar()\n",
    "        plt.xlabel(feature)\n",
    "        plt.ylabel('time_end')\n",
    "        plt.title(feature)\n",
    "        plt.show()\n",
    "    else:\n",
    "        print(f\"No data to plot for {feature}.\")\n"
   ]
  },
  {
   "cell_type": "code",
   "execution_count": null,
   "metadata": {},
   "outputs": [],
   "source": [
    "\n",
    "## There is a relationship between variable number and end time\n",
    "\n",
    "continuous_feature=[feature for feature in numerical_features if feature not in discrete_feature]\n",
    "print(\"Continuous feature Count {}\".format(len(continuous_feature)))"
   ]
  },
  {
   "cell_type": "code",
   "execution_count": null,
   "metadata": {},
   "outputs": [],
   "source": [
    "\n",
    "## Lets analyse the continuous values by creating histograms to understand the distribution\n",
    "\n",
    "for feature in continuous_feature:\n",
    "    data=dataset.copy()\n",
    "    data[feature].hist(bins=25)\n",
    "    plt.xlabel(feature)\n",
    "    plt.ylabel(\"Count\")\n",
    "    plt.title(feature)\n",
    "    plt.show()"
   ]
  },
  {
   "cell_type": "markdown",
   "metadata": {},
   "source": [
    "## DATA is not following Gaussian Distribution\n",
    "\n",
    "Coverting it into Gausian using Logrithmeic Transformation"
   ]
  },
  {
   "cell_type": "code",
   "execution_count": null,
   "metadata": {},
   "outputs": [],
   "source": [
    "#EDA-2\n",
    "\n",
    "## We will be using logarithmic transformation\n",
    "\n",
    "\n",
    "for feature in continuous_feature:\n",
    "    data=dataset.copy()\n",
    "    if 0 in data[feature].unique(): #\n",
    "        pass\n",
    "    else:\n",
    "        data[feature]=np.log(data[feature])\n",
    "        data['time_end']=np.log(data['time_end'])\n",
    "        plt.scatter(data[feature],data['time_end'])\n",
    "        plt.xlabel(feature)\n",
    "        plt.ylabel('time_end')\n",
    "        plt.title(feature)\n",
    "        plt.show()\n",
    "        "
   ]
  },
  {
   "cell_type": "markdown",
   "metadata": {},
   "source": []
  },
  {
   "cell_type": "code",
   "execution_count": null,
   "metadata": {},
   "outputs": [],
   "source": [
    "## outliers\n",
    "\n",
    "for feature in continuous_feature:\n",
    "    data=dataset.copy()\n",
    "    if 0 in data[feature].unique():\n",
    "        pass\n",
    "    else:\n",
    "        data[feature]=np.log(data[feature])\n",
    "        data.boxplot(column=feature)\n",
    "        plt.ylabel(feature)\n",
    "        plt.title(feature)\n",
    "        plt.show()\n",
    "        \n",
    "    "
   ]
  },
  {
   "cell_type": "markdown",
   "metadata": {},
   "source": [
    "### THERE ARE LOT OF OUTLIERS\n"
   ]
  },
  {
   "cell_type": "code",
   "execution_count": 29,
   "metadata": {},
   "outputs": [
    {
     "data": {
      "text/plain": [
       "['nodelist',\n",
       " 'gres_req',\n",
       " 'gres_alloc',\n",
       " 'constraints',\n",
       " 'partition',\n",
       " 'tres_req',\n",
       " 'job_type']"
      ]
     },
     "execution_count": 29,
     "metadata": {},
     "output_type": "execute_result"
    }
   ],
   "source": [
    "categorical_features=[feature for feature in dataset.columns if data[feature].dtypes=='O']\n",
    "categorical_features"
   ]
  },
  {
   "cell_type": "code",
   "execution_count": null,
   "metadata": {},
   "outputs": [],
   "source": [
    "dataset[categorical_features].head()"
   ]
  },
  {
   "cell_type": "code",
   "execution_count": null,
   "metadata": {},
   "outputs": [],
   "source": [
    "for feature in categorical_features:\n",
    "    print('The feature is {} and number of categories are {}'.format(feature,len(dataset[feature].unique())))"
   ]
  },
  {
   "cell_type": "code",
   "execution_count": null,
   "metadata": {},
   "outputs": [],
   "source": [
    "## Find out the relationship between categorical variable and dependent feature end time\n",
    "\n",
    "for feature in categorical_features:\n",
    "    data=dataset.copy()\n",
    "    data.groupby(feature)['time_end'].median().plot.bar()\n",
    "    plt.xlabel(feature)\n",
    "    plt.ylabel('time_end')\n",
    "    plt.title(feature)\n",
    "    plt.show()"
   ]
  },
  {
   "cell_type": "code",
   "execution_count": null,
   "metadata": {},
   "outputs": [],
   "source": [
    "## FE-1\n",
    "\n",
    "## Always remember there way always be a chance of data leakage so we need to split the data first and then apply feature\n",
    "## Engineering\n",
    "from sklearn.model_selection import train_test_split\n",
    "X_train,X_test,y_train,y_test=train_test_split(dataset,dataset['time_end'],test_size=0.1,random_state=0)"
   ]
  },
  {
   "cell_type": "code",
   "execution_count": null,
   "metadata": {},
   "outputs": [],
   "source": [
    "X_train.shape, X_test.shape"
   ]
  },
  {
   "cell_type": "code",
   "execution_count": null,
   "metadata": {},
   "outputs": [],
   "source": [
    "##MISSING  value\n",
    "\n",
    "## Let us capture all the nan values\n",
    "## First lets handle Categorical features which are missing\n",
    "features_nan=[feature for feature in dataset.columns if dataset[feature].isnull().sum()>1 and dataset[feature].dtypes=='O']\n",
    "\n",
    "for feature in features_nan:\n",
    "    print(\"{}: {}% missing values\".format(feature,np.round(dataset[feature].isnull().mean(),4)))"
   ]
  },
  {
   "cell_type": "code",
   "execution_count": null,
   "metadata": {},
   "outputs": [],
   "source": [
    "## Replace missing value with a new label\n",
    "def replace_cat_feature(dataset,features_nan):\n",
    "    data=dataset.copy()\n",
    "    data[features_nan]=data[features_nan].fillna('Missing')\n",
    "    return data\n",
    "\n",
    "dataset=replace_cat_feature(dataset,features_nan)\n",
    "\n",
    "dataset[features_nan].isnull().sum()"
   ]
  },
  {
   "cell_type": "code",
   "execution_count": null,
   "metadata": {},
   "outputs": [],
   "source": [
    "dataset.head()"
   ]
  },
  {
   "cell_type": "code",
   "execution_count": null,
   "metadata": {},
   "outputs": [],
   "source": [
    "## Now lets check for numerical variables the contains missing values\n",
    "numerical_with_nan=[feature for feature in dataset.columns if dataset[feature].isnull().sum()>1 and dataset[feature].dtypes!='O']\n",
    "\n",
    "## We will print the numerical nan variables and percentage of missing values\n",
    "\n",
    "for feature in numerical_with_nan:\n",
    "    print(\"{}: {}% missing value\".format(feature,np.around(dataset[feature].isnull().mean(),4)))"
   ]
  },
  {
   "cell_type": "markdown",
   "metadata": {},
   "source": [
    "## As Numerical features had lot of outliers we are filling NAN values with Median Values"
   ]
  },
  {
   "cell_type": "code",
   "execution_count": null,
   "metadata": {},
   "outputs": [],
   "source": [
    "import numpy as np\n",
    "\n",
    "for feature in numerical_with_nan:\n",
    "    # Check if the feature is empty\n",
    "    if dataset[feature].isnull().all():\n",
    "        print(f\"Warning: {feature} is completely NaN. Filling with a specific value (e.g., 0).\")\n",
    "        dataset[feature].fillna(0, inplace=True)  # or choose a value that makes sense for your dataset\n",
    "    else:\n",
    "        # Calculate median and create new feature for nan values\n",
    "        median_value = dataset[feature].median()\n",
    "        \n",
    "        # Create a new feature to capture nan values\n",
    "        dataset[feature + 'nan'] = np.where(dataset[feature].isnull(), 1, 0)\n",
    "        \n",
    "        # Replace NaN with the median\n",
    "        dataset[feature].fillna(median_value, inplace=True)\n",
    "\n",
    "# Check if any NaNs remain in the numerical columns\n",
    "print(dataset[numerical_with_nan].isnull().sum())\n"
   ]
  },
  {
   "cell_type": "code",
   "execution_count": null,
   "metadata": {},
   "outputs": [],
   "source": [
    "dataset.head(5)"
   ]
  },
  {
   "cell_type": "code",
   "execution_count": null,
   "metadata": {},
   "outputs": [],
   "source": [
    "dataset.info()"
   ]
  },
  {
   "cell_type": "code",
   "execution_count": null,
   "metadata": {},
   "outputs": [],
   "source": [
    "# import numpy as np\n",
    "\n",
    "# for feature in num_features:\n",
    "#     print(f\"{feature} has {np.sum(dataset[feature] <= 0)} non-positive values\")\n",
    "\n",
    "\n"
   ]
  },
  {
   "cell_type": "code",
   "execution_count": null,
   "metadata": {},
   "outputs": [],
   "source": [
    "# for feature in num_features:\n",
    "#     dataset[feature] = dataset[feature].replace(0, 1e-10)  # Replace zeros\n",
    "#     dataset[feature] = np.log(dataset[feature])\n",
    "\n"
   ]
  },
  {
   "cell_type": "code",
   "execution_count": null,
   "metadata": {},
   "outputs": [],
   "source": [
    "import numpy as np\n",
    "num_features=['id_user','kill_requid','cpus_req','timelimit','time_submit','time_eligible','time_start','id_job']\n",
    "\n",
    "for feature in num_features:\n",
    "    dataset[feature]=np.log(dataset[feature])"
   ]
  },
  {
   "cell_type": "code",
   "execution_count": null,
   "metadata": {},
   "outputs": [],
   "source": [
    "dataset.head()"
   ]
  },
  {
   "cell_type": "markdown",
   "metadata": {},
   "source": [
    "## Log normal DISTRIBUTION for skewed data"
   ]
  },
  {
   "cell_type": "code",
   "execution_count": null,
   "metadata": {},
   "outputs": [],
   "source": [
    "dataset.head()"
   ]
  },
  {
   "cell_type": "code",
   "execution_count": null,
   "metadata": {},
   "outputs": [],
   "source": [
    "# Handling Rare Categorical Feature\n",
    "# We will remove categorical variables that are present less than 1% of the observations\n",
    "\n",
    "\n",
    "categorical_features=[feature for feature in dataset.columns if dataset[feature].dtype=='O']\n"
   ]
  },
  {
   "cell_type": "code",
   "execution_count": null,
   "metadata": {},
   "outputs": [],
   "source": [
    "\n",
    "categorical_features"
   ]
  },
  {
   "cell_type": "code",
   "execution_count": null,
   "metadata": {},
   "outputs": [],
   "source": [
    "for feature in categorical_features:\n",
    "    temp=dataset.groupby(feature)['time_end'].count()/len(dataset)\n",
    "    temp_df=temp[temp>0.01].index\n",
    "    dataset[feature]=np.where(dataset[feature].isin(temp_df),dataset[feature],'Rare_var')"
   ]
  },
  {
   "cell_type": "code",
   "execution_count": null,
   "metadata": {},
   "outputs": [],
   "source": [
    "dataset.head(100)"
   ]
  },
  {
   "cell_type": "code",
   "execution_count": null,
   "metadata": {},
   "outputs": [],
   "source": [
    "dataset['nodelist'].iloc[0]"
   ]
  },
  {
   "cell_type": "code",
   "execution_count": null,
   "metadata": {},
   "outputs": [],
   "source": [
    "for feature in categorical_features:\n",
    "    labels_ordered=dataset.groupby([feature])['time_end'].mean().sort_values().index\n",
    "    labels_ordered={k:i for i,k in enumerate(labels_ordered,0)}\n",
    "    dataset[feature]=dataset[feature].map(labels_ordered)"
   ]
  },
  {
   "cell_type": "code",
   "execution_count": null,
   "metadata": {},
   "outputs": [],
   "source": [
    "\n",
    "dataset.head(10)"
   ]
  },
  {
   "cell_type": "markdown",
   "metadata": {},
   "source": [
    "# Here We are Testing Both Standard Scaler and MinMax Scaler who ever gives best accuracy we will use it"
   ]
  },
  {
   "cell_type": "code",
   "execution_count": null,
   "metadata": {},
   "outputs": [],
   "source": [
    "scaling_feature=[feature for feature in dataset.columns if feature not in ['time_end'] ]\n",
    "len(scaling_feature)\n",
    "\n"
   ]
  },
  {
   "cell_type": "code",
   "execution_count": null,
   "metadata": {},
   "outputs": [],
   "source": [
    "scaling_feature"
   ]
  },
  {
   "cell_type": "code",
   "execution_count": null,
   "metadata": {},
   "outputs": [],
   "source": [
    "dataset.head()"
   ]
  },
  {
   "cell_type": "markdown",
   "metadata": {},
   "source": []
  },
  {
   "cell_type": "code",
   "execution_count": null,
   "metadata": {},
   "outputs": [],
   "source": [
    "feature_scale=[feature for feature in dataset.columns if feature not in ['time_end']]\n",
    "\n",
    "from sklearn.preprocessing import MinMaxScaler\n",
    "scaler=MinMaxScaler()\n",
    "scaler.fit(dataset[feature_scale])"
   ]
  },
  {
   "cell_type": "code",
   "execution_count": null,
   "metadata": {},
   "outputs": [],
   "source": [
    "\n",
    "scaler.transform(dataset[feature_scale])"
   ]
  },
  {
   "cell_type": "markdown",
   "metadata": {},
   "source": [
    "dataset.head()"
   ]
  },
  {
   "cell_type": "code",
   "execution_count": null,
   "metadata": {},
   "outputs": [],
   "source": [
    "dataset.head()"
   ]
  },
  {
   "cell_type": "code",
   "execution_count": null,
   "metadata": {},
   "outputs": [],
   "source": [
    "# transform the train and test set, and add on the Id and SalePrice variables\n",
    "data = pd.concat([dataset[[ 'time_end']].reset_index(drop=True),\n",
    "                    pd.DataFrame(scaler.transform(dataset[feature_scale]), columns=feature_scale)],\n",
    "                    axis=1)"
   ]
  },
  {
   "cell_type": "code",
   "execution_count": null,
   "metadata": {},
   "outputs": [],
   "source": [
    "data.to_csv('X_train.csv',index=False)"
   ]
  },
  {
   "cell_type": "code",
   "execution_count": null,
   "metadata": {},
   "outputs": [],
   "source": [
    "##FINAL\n",
    "\n",
    "import pandas as pd\n",
    "import numpy as np\n",
    "\n",
    "import matplotlib.pyplot as plt\n",
    "%matplotlib inline\n",
    "\n",
    "## for feature slection\n",
    "\n",
    "from sklearn.linear_model import Lasso\n",
    "from sklearn.feature_selection import SelectFromModel\n",
    "\n",
    "# to visualise al the columns in the dataframe\n",
    "pd.pandas.set_option('display.max_columns', None)\n",
    "\n",
    "dataset=pd.read_csv('X_train.csv')"
   ]
  },
  {
   "cell_type": "code",
   "execution_count": null,
   "metadata": {},
   "outputs": [],
   "source": [
    "dataset.head()"
   ]
  },
  {
   "cell_type": "code",
   "execution_count": null,
   "metadata": {},
   "outputs": [],
   "source": [
    "## Capture the dependent feature\n",
    "y_train=dataset[['time_end']]"
   ]
  },
  {
   "cell_type": "code",
   "execution_count": null,
   "metadata": {},
   "outputs": [],
   "source": [
    "## drop dependent feature from dataset\n",
    "X_train=dataset.drop(['time_end'],axis=1)"
   ]
  },
  {
   "cell_type": "code",
   "execution_count": null,
   "metadata": {},
   "outputs": [],
   "source": [
    "### Apply Feature Selection\n",
    "# first, I specify the Lasso Regression model, and I\n",
    "# select a suitable alpha (equivalent of penalty).\n",
    "# The bigger the alpha the less features that will be selected.\n",
    "\n",
    "# Then I use the selectFromModel object from sklearn, which\n",
    "# will select the features which coefficients are non-zero\n",
    "\n",
    "feature_sel_model = SelectFromModel(Lasso(alpha=0.005, random_state=0)) # remember to set the seed, the random state in this function\n",
    "feature_sel_model.fit(X_train, y_train)"
   ]
  },
  {
   "cell_type": "code",
   "execution_count": null,
   "metadata": {},
   "outputs": [],
   "source": [
    "feature_sel_model.get_support()\n",
    "#True --> Get this feature False --> Not much IMP feature"
   ]
  },
  {
   "cell_type": "code",
   "execution_count": null,
   "metadata": {},
   "outputs": [],
   "source": [
    "# Print the number of total and selected features\n",
    "selected_feat = X_train.columns[(feature_sel_model.get_support())]\n",
    "\n",
    "# Let's print some stats\n",
    "print('Total features: {}'.format(X_train.shape[1]))\n",
    "print('Selected features: {}'.format(len(selected_feat)))\n",
    "\n",
    "# Assuming the feature selection model is in feature_sel_model\n",
    "# Checking for coefficients shrunk to zero (if using a model like Lasso)\n",
    "print('Features with coefficients shrank to zero: {}'.format(\n",
    "    np.sum(feature_sel_model.estimator_.coef_ == 0)))\n"
   ]
  },
  {
   "cell_type": "code",
   "execution_count": null,
   "metadata": {},
   "outputs": [],
   "source": [
    "selected_feat"
   ]
  },
  {
   "cell_type": "code",
   "execution_count": null,
   "metadata": {},
   "outputs": [],
   "source": [
    "X_train=X_train[selected_feat]"
   ]
  },
  {
   "cell_type": "code",
   "execution_count": null,
   "metadata": {},
   "outputs": [],
   "source": [
    "\n",
    "X_train.head()"
   ]
  },
  {
   "cell_type": "code",
   "execution_count": null,
   "metadata": {},
   "outputs": [],
   "source": [
    "# Basic Import\n",
    "import numpy as np\n",
    "import pandas as pd\n",
    "import matplotlib.pyplot as plt \n",
    "import seaborn as sns\n",
    "# Modelling\n",
    "from sklearn.metrics import mean_squared_error, r2_score\n",
    "from sklearn.neighbors import KNeighborsRegressor\n",
    "from sklearn.tree import DecisionTreeRegressor\n",
    "from sklearn.ensemble import RandomForestRegressor,AdaBoostRegressor\n",
    "from sklearn.svm import SVR\n",
    "from sklearn.linear_model import LinearRegression, Ridge,Lasso\n",
    "from sklearn.metrics import r2_score, mean_absolute_error, mean_squared_error\n",
    "from sklearn.model_selection import RandomizedSearchCV\n",
    "from catboost import CatBoostRegressor\n",
    "from xgboost import XGBRegressor\n",
    "import warnings"
   ]
  },
  {
   "cell_type": "code",
   "execution_count": null,
   "metadata": {},
   "outputs": [],
   "source": [
    "X_train"
   ]
  },
  {
   "cell_type": "code",
   "execution_count": null,
   "metadata": {},
   "outputs": [],
   "source": [
    "X = X_train.drop(columns=['time_end.1'])"
   ]
  },
  {
   "cell_type": "code",
   "execution_count": null,
   "metadata": {},
   "outputs": [],
   "source": [
    "X.head()"
   ]
  },
  {
   "cell_type": "code",
   "execution_count": null,
   "metadata": {},
   "outputs": [],
   "source": []
  },
  {
   "cell_type": "code",
   "execution_count": null,
   "metadata": {},
   "outputs": [],
   "source": []
  },
  {
   "cell_type": "code",
   "execution_count": null,
   "metadata": {},
   "outputs": [],
   "source": [
    "y = dataset['time_end.1']"
   ]
  },
  {
   "cell_type": "code",
   "execution_count": null,
   "metadata": {},
   "outputs": [],
   "source": [
    "y"
   ]
  },
  {
   "cell_type": "code",
   "execution_count": null,
   "metadata": {},
   "outputs": [],
   "source": [
    "# Create Column Transformer with 3 types of transformers\n",
    "num_features = X.select_dtypes(exclude=\"object\").columns\n",
    "cat_features = X.select_dtypes(include=\"object\").columns\n",
    "\n",
    "from sklearn.preprocessing import OneHotEncoder, StandardScaler\n",
    "from sklearn.compose import ColumnTransformer\n",
    "\n",
    "numeric_transformer = StandardScaler()\n",
    "oh_transformer = OneHotEncoder()\n",
    "\n",
    "preprocessor = ColumnTransformer(\n",
    "    [\n",
    "        (\"OneHotEncoder\", oh_transformer, cat_features),\n",
    "         (\"StandardScaler\", numeric_transformer, num_features),        \n",
    "    ]\n",
    ")"
   ]
  },
  {
   "cell_type": "code",
   "execution_count": null,
   "metadata": {},
   "outputs": [],
   "source": [
    "X = preprocessor.fit_transform(X)"
   ]
  },
  {
   "cell_type": "code",
   "execution_count": null,
   "metadata": {},
   "outputs": [],
   "source": [
    "# separate dataset into train and test\n",
    "from sklearn.model_selection import train_test_split\n",
    "X_train, X_test, y_train, y_test = train_test_split(X,y,test_size=0.2,random_state=42)\n",
    "X_train.shape, X_test.shape"
   ]
  },
  {
   "cell_type": "code",
   "execution_count": null,
   "metadata": {},
   "outputs": [],
   "source": [
    "def evaluate_model(true, predicted):\n",
    "    mae = mean_absolute_error(true, predicted)\n",
    "    mse = mean_squared_error(true, predicted)\n",
    "    rmse = np.sqrt(mean_squared_error(true, predicted))\n",
    "    r2_square = r2_score(true, predicted)\n",
    "    return mae, rmse, r2_square"
   ]
  },
  {
   "cell_type": "code",
   "execution_count": null,
   "metadata": {},
   "outputs": [],
   "source": [
    "models = {\n",
    "    \"Linear Regression\": LinearRegression(),\n",
    "    \"Lasso\": Lasso(),\n",
    "     \"Ridge\": Ridge(),\n",
    "     \"K-Neighbors Regressor\": KNeighborsRegressor(),\n",
    "     \"Decision Tree\": DecisionTreeRegressor(),\n",
    "     \"Random Forest Regressor\": RandomForestRegressor(),\n",
    "     \"XGBRegressor\": XGBRegressor(), \n",
    "     \"CatBoosting Regressor\": CatBoostRegressor(verbose=False),\n",
    "     \"AdaBoost Regressor\": AdaBoostRegressor()\n",
    "}\n",
    "model_list = []\n",
    "r2_list =[]\n",
    "\n",
    "for i in range(len(list(models))):\n",
    "    model = list(models.values())[i]\n",
    "    model.fit(X_train, y_train) # Train model\n",
    "\n",
    "    # Make predictions\n",
    "    y_train_pred = model.predict(X_train)\n",
    "    y_test_pred = model.predict(X_test)\n",
    "    \n",
    "    # Evaluate Train and Test dataset\n",
    "    model_train_mae , model_train_rmse, model_train_r2 = evaluate_model(y_train, y_train_pred)\n",
    "\n",
    "    model_test_mae , model_test_rmse, model_test_r2 = evaluate_model(y_test, y_test_pred)\n",
    "\n",
    "    \n",
    "    print(list(models.keys())[i])\n",
    "    model_list.append(list(models.keys())[i])\n",
    "    \n",
    "    print('Model performance for Training set')\n",
    "    print(\"- Root Mean Squared Error: {:.4f}\".format(model_train_rmse))\n",
    "    print(\"- Mean Absolute Error: {:.4f}\".format(model_train_mae))\n",
    "    print(\"- R2 Score: {:.4f}\".format(model_train_r2))\n",
    "\n",
    "    print('----------------------------------')\n",
    "    \n",
    "    print('Model performance for Test set')\n",
    "    print(\"- Root Mean Squared Error: {:.4f}\".format(model_test_rmse))\n",
    "    print(\"- Mean Absolute Error: {:.4f}\".format(model_test_mae))\n",
    "    print(\"- R2 Score: {:.4f}\".format(model_test_r2))\n",
    "    r2_list.append(model_test_r2)\n",
    "    \n",
    "    print('='*35)\n",
    "    print('\\n')"
   ]
  },
  {
   "cell_type": "code",
   "execution_count": null,
   "metadata": {},
   "outputs": [],
   "source": [
    "pd.DataFrame(list(zip(model_list, r2_list)), columns=['Model Name', 'R2_Score']).sort_values(by=[\"R2_Score\"],ascending=False)"
   ]
  },
  {
   "cell_type": "code",
   "execution_count": null,
   "metadata": {},
   "outputs": [],
   "source": [
    "lin_model = LinearRegression(fit_intercept=True)\n",
    "lin_model = lin_model.fit(X_train, y_train)\n",
    "y_pred = lin_model.predict(X_test)\n",
    "score = r2_score(y_test, y_pred)*100\n",
    "print(\" Accuracy of the model is %.2f\" %score)"
   ]
  },
  {
   "cell_type": "code",
   "execution_count": null,
   "metadata": {},
   "outputs": [],
   "source": []
  },
  {
   "cell_type": "code",
   "execution_count": null,
   "metadata": {},
   "outputs": [],
   "source": [
    "lin_model = LinearRegression(fit_intercept=True)\n",
    "lin_model = lin_model.fit(X_train, y_train)\n",
    "y_pred = lin_model.predict(X_test)\n",
    "score = r2_score(y_test, y_pred)*100\n",
    "print(\" Accuracy of the model is %.2f\" %score)"
   ]
  },
  {
   "cell_type": "code",
   "execution_count": null,
   "metadata": {},
   "outputs": [],
   "source": [
    "plt.scatter(y_test,y_pred);\n",
    "plt.xlabel('Actual');\n",
    "plt.ylabel('Predicted');"
   ]
  },
  {
   "cell_type": "code",
   "execution_count": null,
   "metadata": {},
   "outputs": [],
   "source": [
    "sns.regplot(x=y_test,y=y_pred,ci=None,color ='red');"
   ]
  },
  {
   "cell_type": "code",
   "execution_count": null,
   "metadata": {},
   "outputs": [],
   "source": [
    "pred_df=pd.DataFrame({'Actual Value':y_test,'Predicted Value':y_pred,'Difference':y_test-y_pred})\n",
    "pred_df"
   ]
  },
  {
   "cell_type": "code",
   "execution_count": null,
   "metadata": {},
   "outputs": [],
   "source": []
  },
  {
   "cell_type": "code",
   "execution_count": null,
   "metadata": {},
   "outputs": [],
   "source": []
  }
 ],
 "metadata": {
  "kernelspec": {
   "display_name": "Python 3",
   "language": "python",
   "name": "python3"
  },
  "language_info": {
   "codemirror_mode": {
    "name": "ipython",
    "version": 3
   },
   "file_extension": ".py",
   "mimetype": "text/x-python",
   "name": "python",
   "nbconvert_exporter": "python",
   "pygments_lexer": "ipython3",
   "version": "3.8.20"
  }
 },
 "nbformat": 4,
 "nbformat_minor": 2
}
